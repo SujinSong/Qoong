{
  "nbformat": 4,
  "nbformat_minor": 0,
  "metadata": {
    "colab": {
      "name": "acc_99.22.ipynb",
      "provenance": [],
      "collapsed_sections": [],
      "authorship_tag": "ABX9TyOVqMLCBM08zAQZ4yzR2rxX",
      "include_colab_link": true
    },
    "kernelspec": {
      "name": "python3",
      "display_name": "Python 3"
    },
    "language_info": {
      "name": "python"
    }
  },
  "cells": [
    {
      "cell_type": "markdown",
      "metadata": {
        "id": "view-in-github",
        "colab_type": "text"
      },
      "source": [
        "<a href=\"https://colab.research.google.com/github/SujinSong/Qoong/blob/master/acc_99_22.ipynb\" target=\"_parent\"><img src=\"https://colab.research.google.com/assets/colab-badge.svg\" alt=\"Open In Colab\"/></a>"
      ]
    },
    {
      "cell_type": "code",
      "metadata": {
        "id": "dsMqpq7cXXmN"
      },
      "source": [
        "# 기본 코드"
      ],
      "execution_count": 1,
      "outputs": []
    },
    {
      "cell_type": "code",
      "metadata": {
        "id": "PF-Oj7BNXZkX"
      },
      "source": [
        "import matplotlib.pyplot as plt\n",
        "import tensorflow as tf\n",
        "from tensorflow.keras import datasets, layers, models"
      ],
      "execution_count": 2,
      "outputs": []
    },
    {
      "cell_type": "code",
      "metadata": {
        "id": "6W5LvknRXmSa"
      },
      "source": [
        "(X_train, y_train), (X_test, y_test) = tf.keras.datasets.mnist.load_data()"
      ],
      "execution_count": 3,
      "outputs": []
    },
    {
      "cell_type": "code",
      "metadata": {
        "colab": {
          "base_uri": "https://localhost:8080/"
        },
        "id": "X0JHC24NXx7K",
        "outputId": "6729da0b-51fe-46c0-e7e8-aebc22815fc6"
      },
      "source": [
        "X_train = X_train.reshape((60000, 28, 28, 1))\n",
        "X_test = X_test.reshape((10000, 28, 28, 1))\n",
        "print(X_train.shape) # (60000, 28, 28)\n",
        "print(X_train.shape) # (60000, )"
      ],
      "execution_count": 4,
      "outputs": [
        {
          "output_type": "stream",
          "name": "stdout",
          "text": [
            "(60000, 28, 28, 1)\n",
            "(60000, 28, 28, 1)\n"
          ]
        }
      ]
    },
    {
      "cell_type": "code",
      "metadata": {
        "id": "Os1tiPCUYIGD"
      },
      "source": [
        "# 데이터 전처리, Normalization\n",
        "X_train, X_test = X_train / 255.0, X_test / 255.0  "
      ],
      "execution_count": 5,
      "outputs": []
    },
    {
      "cell_type": "code",
      "metadata": {
        "id": "ocNP4njjYRNm"
      },
      "source": [
        "# one-hot encoding: X 가 아닌 1차원 array 형태(ex: 0, 1, 2 카테고리에서 1은 [0, 1, 0])\n",
        "# to_categorical() 사용\n",
        "#y_train = tf.keras.utils.to_categorical(y_train, 10)\n",
        "#y_test = tf.keras.utils.to_categorical(y_test, 10)"
      ],
      "execution_count": 6,
      "outputs": []
    },
    {
      "cell_type": "code",
      "metadata": {
        "colab": {
          "base_uri": "https://localhost:8080/"
        },
        "id": "tWTGZ4yBYaik",
        "outputId": "4a4b4fbd-79ff-411a-9424-bae63cdbb581"
      },
      "source": [
        "model = models.Sequential()\n",
        "model.add(layers.Conv2D(32, (3, 3), activation='relu', input_shape=(28, 28, 1)))\n",
        "model.add(layers.MaxPooling2D((2, 2)))\n",
        "model.add(layers.Conv2D(64, (3, 3), activation='relu'))\n",
        "model.add(layers.MaxPooling2D((2, 2)))\n",
        "model.add(layers.Conv2D(64, (3, 3), activation='relu'))\n",
        "\n",
        "# 모델구조 확인\n",
        "model.summary()"
      ],
      "execution_count": 7,
      "outputs": [
        {
          "output_type": "stream",
          "name": "stdout",
          "text": [
            "Model: \"sequential\"\n",
            "_________________________________________________________________\n",
            "Layer (type)                 Output Shape              Param #   \n",
            "=================================================================\n",
            "conv2d (Conv2D)              (None, 26, 26, 32)        320       \n",
            "_________________________________________________________________\n",
            "max_pooling2d (MaxPooling2D) (None, 13, 13, 32)        0         \n",
            "_________________________________________________________________\n",
            "conv2d_1 (Conv2D)            (None, 11, 11, 64)        18496     \n",
            "_________________________________________________________________\n",
            "max_pooling2d_1 (MaxPooling2 (None, 5, 5, 64)          0         \n",
            "_________________________________________________________________\n",
            "conv2d_2 (Conv2D)            (None, 3, 3, 64)          36928     \n",
            "=================================================================\n",
            "Total params: 55,744\n",
            "Trainable params: 55,744\n",
            "Non-trainable params: 0\n",
            "_________________________________________________________________\n"
          ]
        }
      ]
    },
    {
      "cell_type": "code",
      "metadata": {
        "colab": {
          "base_uri": "https://localhost:8080/"
        },
        "id": "U4lJRlRoYipX",
        "outputId": "f30ce831-8af8-4eb6-fda1-e874afa7841b"
      },
      "source": [
        "model.add(layers.Flatten())\n",
        "model.add(layers.Dense(64, activation='relu'))\n",
        "model.add(layers.Dense(10, activation='softmax'))\n",
        "\n",
        "# 모델구조 확인\n",
        "model.summary()"
      ],
      "execution_count": 8,
      "outputs": [
        {
          "output_type": "stream",
          "name": "stdout",
          "text": [
            "Model: \"sequential\"\n",
            "_________________________________________________________________\n",
            "Layer (type)                 Output Shape              Param #   \n",
            "=================================================================\n",
            "conv2d (Conv2D)              (None, 26, 26, 32)        320       \n",
            "_________________________________________________________________\n",
            "max_pooling2d (MaxPooling2D) (None, 13, 13, 32)        0         \n",
            "_________________________________________________________________\n",
            "conv2d_1 (Conv2D)            (None, 11, 11, 64)        18496     \n",
            "_________________________________________________________________\n",
            "max_pooling2d_1 (MaxPooling2 (None, 5, 5, 64)          0         \n",
            "_________________________________________________________________\n",
            "conv2d_2 (Conv2D)            (None, 3, 3, 64)          36928     \n",
            "_________________________________________________________________\n",
            "flatten (Flatten)            (None, 576)               0         \n",
            "_________________________________________________________________\n",
            "dense (Dense)                (None, 64)                36928     \n",
            "_________________________________________________________________\n",
            "dense_1 (Dense)              (None, 10)                650       \n",
            "=================================================================\n",
            "Total params: 93,322\n",
            "Trainable params: 93,322\n",
            "Non-trainable params: 0\n",
            "_________________________________________________________________\n"
          ]
        }
      ]
    },
    {
      "cell_type": "code",
      "metadata": {
        "colab": {
          "base_uri": "https://localhost:8080/"
        },
        "id": "R9VSaTSXY_8k",
        "outputId": "f0af3b02-eb6a-4bb2-b8d4-9b029cc4c832"
      },
      "source": [
        "model.compile(optimizer='adam',\n",
        "              loss='sparse_categorical_crossentropy',\n",
        "              metrics=['accuracy'])\n",
        "\n",
        "model.fit(X_train, y_train, epochs = 15)"
      ],
      "execution_count": 9,
      "outputs": [
        {
          "output_type": "stream",
          "name": "stdout",
          "text": [
            "Epoch 1/15\n",
            "1875/1875 [==============================] - 56s 30ms/step - loss: 0.1426 - accuracy: 0.9552\n",
            "Epoch 2/15\n",
            "1875/1875 [==============================] - 56s 30ms/step - loss: 0.0454 - accuracy: 0.9860\n",
            "Epoch 3/15\n",
            "1875/1875 [==============================] - 55s 30ms/step - loss: 0.0317 - accuracy: 0.9899\n",
            "Epoch 4/15\n",
            "1875/1875 [==============================] - 55s 29ms/step - loss: 0.0260 - accuracy: 0.9918\n",
            "Epoch 5/15\n",
            "1875/1875 [==============================] - 55s 29ms/step - loss: 0.0190 - accuracy: 0.9941\n",
            "Epoch 6/15\n",
            "1875/1875 [==============================] - 55s 29ms/step - loss: 0.0162 - accuracy: 0.9948\n",
            "Epoch 7/15\n",
            "1875/1875 [==============================] - 55s 29ms/step - loss: 0.0135 - accuracy: 0.9956\n",
            "Epoch 8/15\n",
            "1875/1875 [==============================] - 55s 29ms/step - loss: 0.0106 - accuracy: 0.9965\n",
            "Epoch 9/15\n",
            "1875/1875 [==============================] - 55s 29ms/step - loss: 0.0099 - accuracy: 0.9969\n",
            "Epoch 10/15\n",
            "1875/1875 [==============================] - 55s 29ms/step - loss: 0.0096 - accuracy: 0.9969\n",
            "Epoch 11/15\n",
            "1875/1875 [==============================] - 55s 29ms/step - loss: 0.0084 - accuracy: 0.9971\n",
            "Epoch 12/15\n",
            "1875/1875 [==============================] - 55s 29ms/step - loss: 0.0069 - accuracy: 0.9977\n",
            "Epoch 13/15\n",
            "1875/1875 [==============================] - 55s 29ms/step - loss: 0.0065 - accuracy: 0.9978\n",
            "Epoch 14/15\n",
            "1875/1875 [==============================] - 55s 29ms/step - loss: 0.0076 - accuracy: 0.9976\n",
            "Epoch 15/15\n",
            "1875/1875 [==============================] - 55s 29ms/step - loss: 0.0055 - accuracy: 0.9981\n"
          ]
        },
        {
          "output_type": "execute_result",
          "data": {
            "text/plain": [
              "<keras.callbacks.History at 0x7f4bddf280d0>"
            ]
          },
          "metadata": {},
          "execution_count": 9
        }
      ]
    },
    {
      "cell_type": "code",
      "metadata": {
        "colab": {
          "base_uri": "https://localhost:8080/"
        },
        "id": "wG7EtRmUZKuR",
        "outputId": "4467b7a9-8a65-4970-830f-da48ce02b34c"
      },
      "source": [
        "test_loss, test_acc = model.evaluate(X_test,  y_test, verbose=2)"
      ],
      "execution_count": 10,
      "outputs": [
        {
          "output_type": "stream",
          "name": "stdout",
          "text": [
            "313/313 - 3s - loss: 0.0359 - accuracy: 0.9922\n"
          ]
        }
      ]
    },
    {
      "cell_type": "code",
      "metadata": {
        "colab": {
          "base_uri": "https://localhost:8080/"
        },
        "id": "LMv_CtVXaxRY",
        "outputId": "43787f53-1cbf-4b7d-d4cc-9775a4db91be"
      },
      "source": [
        "print(test_acc)"
      ],
      "execution_count": 11,
      "outputs": [
        {
          "output_type": "stream",
          "name": "stdout",
          "text": [
            "0.9922000169754028\n"
          ]
        }
      ]
    },
    {
      "cell_type": "code",
      "metadata": {
        "id": "dGgFrzCBa0iZ"
      },
      "source": [
        ""
      ],
      "execution_count": 11,
      "outputs": []
    }
  ]
}